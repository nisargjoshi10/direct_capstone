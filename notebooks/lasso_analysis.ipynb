{
 "cells": [
  {
   "cell_type": "code",
   "execution_count": 1,
   "metadata": {},
   "outputs": [],
   "source": [
    "import sys\n",
    "sys.path.append('../modules')\n",
    "import lasso_analysis\n",
    "from lasso_analysis import PlastPredictor\n",
    "import numpy as np\n",
    "import pandas as pd\n",
    "import seaborn as sns\n",
    "import matplotlib.pyplot as plt\n",
    "import matplotlib.cm as cm\n",
    "from scipy.stats import zscore\n",
    "import pickle"
   ]
  },
  {
   "cell_type": "code",
   "execution_count": 2,
   "metadata": {},
   "outputs": [],
   "source": [
    "pl_full = pd.read_pickle('../database/plasticizer_data_v10_polarity.pkl')\n",
    "pl_pol = pd.concat([pl_full[pl_full.columns[1:195]], pl_full['Polarity']], axis=1)\n",
    "all_cols = pl_pol.columns.to_numpy()\n",
    "pl_data = pl_pol[all_cols].to_numpy()\n",
    "lin_data = pd.read_pickle('../database/linolein_test.pkl')\n",
    "lin_data['Polarity'] = 0.048856\n",
    "lin_data = lin_data[all_cols].to_numpy()\n",
    "org_full = pd.read_pickle('../database/org_polarity_v2.pkl')"
   ]
  },
  {
   "cell_type": "code",
   "execution_count": 3,
   "metadata": {},
   "outputs": [],
   "source": [
    "psim1 = open(\"pubs_similarity.txt\", 'r')\n",
    "psim11 = [line.rstrip('\\n') for line in psim1]\n",
    "psim2 = open(\"pubs_othersim.txt\", 'r')\n",
    "psim22 = [line.rstrip('\\n') for line in psim2]"
   ]
  },
  {
   "cell_type": "code",
   "execution_count": 4,
   "metadata": {},
   "outputs": [],
   "source": [
    "org_full\n",
    "org_full['Dsim'] = psim11\n",
    "org_full['Nasim'] = psim22"
   ]
  },
  {
   "cell_type": "code",
   "execution_count": 5,
   "metadata": {},
   "outputs": [],
   "source": [
    "org_full = org_full.sort_values(by ='Dsim')"
   ]
  },
  {
   "cell_type": "code",
   "execution_count": 6,
   "metadata": {},
   "outputs": [],
   "source": [
    "org_full = org_full[:5000]\n",
    "org_data = org_full[all_cols].to_numpy()"
   ]
  },
  {
   "cell_type": "code",
   "execution_count": 7,
   "metadata": {
    "scrolled": false
   },
   "outputs": [
    {
     "name": "stdout",
     "output_type": "stream",
     "text": [
      "Fitting 5 folds for each of 7 candidates, totalling 35 fits\n"
     ]
    },
    {
     "name": "stderr",
     "output_type": "stream",
     "text": [
      "[Parallel(n_jobs=1)]: Using backend SequentialBackend with 1 concurrent workers.\n",
      "//anaconda3/envs/rdkit/lib/python3.7/site-packages/sklearn/linear_model/_coordinate_descent.py:476: ConvergenceWarning: Objective did not converge. You might want to increase the number of iterations. Duality gap: 1.4888905167989037, tolerance: 0.15721487839771112\n",
      "  positive)\n",
      "//anaconda3/envs/rdkit/lib/python3.7/site-packages/sklearn/linear_model/_coordinate_descent.py:476: ConvergenceWarning: Objective did not converge. You might want to increase the number of iterations. Duality gap: 0.4304338887330914, tolerance: 0.15723760928310296\n",
      "  positive)\n",
      "//anaconda3/envs/rdkit/lib/python3.7/site-packages/sklearn/linear_model/_coordinate_descent.py:476: ConvergenceWarning: Objective did not converge. You might want to increase the number of iterations. Duality gap: 0.8582485244335203, tolerance: 0.15718912732474966\n",
      "  positive)\n",
      "//anaconda3/envs/rdkit/lib/python3.7/site-packages/sklearn/linear_model/_coordinate_descent.py:476: ConvergenceWarning: Objective did not converge. You might want to increase the number of iterations. Duality gap: 1.2980000897962896, tolerance: 0.15726208869814015\n",
      "  positive)\n",
      "//anaconda3/envs/rdkit/lib/python3.7/site-packages/sklearn/linear_model/_coordinate_descent.py:476: ConvergenceWarning: Objective did not converge. You might want to increase the number of iterations. Duality gap: 0.6227638266458939, tolerance: 0.15724278448823922\n",
      "  positive)\n",
      "[Parallel(n_jobs=1)]: Done  35 out of  35 | elapsed:    7.7s finished\n",
      "//anaconda3/envs/rdkit/lib/python3.7/site-packages/sklearn/linear_model/_coordinate_descent.py:476: ConvergenceWarning: Objective did not converge. You might want to increase the number of iterations. Duality gap: 0.3753518928839412, tolerance: 0.19654120040691775\n",
      "  positive)\n"
     ]
    }
   ],
   "source": [
    "pp = PlastPredictor(reg_param=1)\n",
    "pp_model = pp.fit_model(pl_data, org_data)"
   ]
  },
  {
   "cell_type": "code",
   "execution_count": 8,
   "metadata": {},
   "outputs": [
    {
     "data": {
      "text/plain": [
       "(0.0376, 0.9380952380952381, array([1.1542416]))"
      ]
     },
     "execution_count": 8,
     "metadata": {},
     "output_type": "execute_result"
    }
   ],
   "source": [
    "org_acc = pp.predict(org_data, type='binary')\n",
    "pl_acc = pp.predict(pl_data, type='binary')\n",
    "lin_prob = pp.predict(lin_data)\n",
    "org_acc, pl_acc, lin_prob"
   ]
  },
  {
   "cell_type": "code",
   "execution_count": 9,
   "metadata": {},
   "outputs": [],
   "source": [
    "pl_probs = pp.predict(pl_data)\n",
    "pl_smiles = pl_full['SMILES'].to_numpy()\n",
    "org_probs = pp.predict(org_data)\n",
    "org_smiles = org_full['SMILES'].to_numpy()"
   ]
  },
  {
   "cell_type": "code",
   "execution_count": 10,
   "metadata": {},
   "outputs": [
    {
     "data": {
      "image/png": "[encoded data removed]",
      "text/plain": [
       "<Figure size 432x288 with 1 Axes>"
      ]
     },
     "metadata": {
      "needs_background": "light"
     },
     "output_type": "display_data"
    }
   ],
   "source": [
    "sns.distplot(pl_probs, hist=False)\n",
    "sns.distplot(org_probs, hist=False)\n",
    "plt.show()"
   ]
  },
  {
   "cell_type": "code",
   "execution_count": 11,
   "metadata": {},
   "outputs": [
    {
     "name": "stdout",
     "output_type": "stream",
     "text": [
      "{'mean_fit_time': array([1.24052172, 0.12707367, 0.06644826, 0.0200933 , 0.02096119,\n",
      "       0.02056422, 0.0203321 ]), 'std_fit_time': array([0.02934236, 0.00727806, 0.00254741, 0.00035043, 0.00152236,\n",
      "       0.00067135, 0.00063744]), 'mean_score_time': array([0.00112476, 0.00135159, 0.00086999, 0.00082855, 0.00091333,\n",
      "       0.00088134, 0.00084543]), 'std_score_time': array([2.54706932e-05, 7.61984093e-04, 2.63773283e-06, 3.63159004e-05,\n",
      "       1.64412138e-04, 1.32571158e-04, 7.11213451e-05]), 'param_alpha': masked_array(data=[0.0001, 0.001, 0.01, 0.1, 1, 5, 10],\n",
      "             mask=[False, False, False, False, False, False, False],\n",
      "       fill_value='?',\n",
      "            dtype=object), 'params': [{'alpha': 0.0001}, {'alpha': 0.001}, {'alpha': 0.01}, {'alpha': 0.1}, {'alpha': 1}, {'alpha': 5}, {'alpha': 10}], 'split0_test_score': array([-0.04711254, -0.06361728, -0.12134227, -0.25001478, -0.25001478,\n",
      "       -0.25001478, -0.25001478]), 'split1_test_score': array([-0.04594911, -0.0597761 , -0.12214514, -0.24986829, -0.24986829,\n",
      "       -0.24986829, -0.24986829]), 'split2_test_score': array([-0.04498805, -0.05661362, -0.11598641, -0.2502182 , -0.2502182 ,\n",
      "       -0.2502182 , -0.2502182 ]), 'split3_test_score': array([-0.05307158, -0.06284747, -0.10978671, -0.249793  , -0.249793  ,\n",
      "       -0.249793  , -0.249793  ]), 'split4_test_score': array([-0.04588105, -0.05994769, -0.11674998, -0.24999388, -0.24999388,\n",
      "       -0.24999388, -0.24999388]), 'mean_test_score': array([-0.04740047, -0.06056043, -0.1172021 , -0.24997763, -0.24997763,\n",
      "       -0.24997763, -0.24997763]), 'std_test_score': array([0.00291476, 0.00249571, 0.00443272, 0.0001453 , 0.0001453 ,\n",
      "       0.0001453 , 0.0001453 ]), 'rank_test_score': array([1, 2, 3, 4, 4, 4, 4], dtype=int32)}\n"
     ]
    }
   ],
   "source": [
    "print(pp.clf.cv_results_)"
   ]
  },
  {
   "cell_type": "code",
   "execution_count": 12,
   "metadata": {},
   "outputs": [
    {
     "name": "stdout",
     "output_type": "stream",
     "text": [
      "make_scorer(mean_squared_error, greater_is_better=False)\n"
     ]
    }
   ],
   "source": [
    "print(pp.clf.scorer_)"
   ]
  },
  {
   "cell_type": "code",
   "execution_count": 13,
   "metadata": {},
   "outputs": [],
   "source": [
    "alpha_l = [1e-4, 1e-3, 1e-2, 1e-1, 1, 5, 10]\n",
    "std = [0.00404521, 0.00424329, 0.00506674, 0.0001205, 0.0001205, 0.0001205, 0.0001205]\n",
    "mean = [-0.04646859, -0.06017553, -0.12478774, -0.24996776, -0.24996776, -0.2499102 , -0.2499102] "
   ]
  },
  {
   "cell_type": "code",
   "execution_count": 14,
   "metadata": {},
   "outputs": [
    {
     "data": {
      "text/plain": [
       "(-1, 10)"
      ]
     },
     "execution_count": 14,
     "metadata": {},
     "output_type": "execute_result"
    },
    {
     "data": {
      "image/png": "[encoded data removed]",
      "text/plain": [
       "<Figure size 432x288 with 1 Axes>"
      ]
     },
     "metadata": {
      "needs_background": "light"
     },
     "output_type": "display_data"
    }
   ],
   "source": [
    "plt.plot(alpha_l, std)\n",
    "plt.xlim(-1, 10)"
   ]
  },
  {
   "cell_type": "code",
   "execution_count": 15,
   "metadata": {},
   "outputs": [
    {
     "data": {
      "text/plain": [
       "[<matplotlib.lines.Line2D at 0x1a21014350>]"
      ]
     },
     "execution_count": 15,
     "metadata": {},
     "output_type": "execute_result"
    },
    {
     "data": {
      "image/png": "[encoded data removed]",
      "text/plain": [
       "<Figure size 432x288 with 1 Axes>"
      ]
     },
     "metadata": {
      "needs_background": "light"
     },
     "output_type": "display_data"
    }
   ],
   "source": [
    "plt.plot(mean, alpha_l)"
   ]
  },
  {
   "cell_type": "code",
   "execution_count": null,
   "metadata": {},
   "outputs": [],
   "source": []
  }
 ],
 "metadata": {
  "kernelspec": {
   "display_name": "Python 3",
   "language": "python",
   "name": "python3"
  },
  "language_info": {
   "codemirror_mode": {
    "name": "ipython",
    "version": 3
   },
   "file_extension": ".py",
   "mimetype": "text/x-python",
   "name": "python",
   "nbconvert_exporter": "python",
   "pygments_lexer": "ipython3",
   "version": "3.7.7"
  }
 },
 "nbformat": 4,
 "nbformat_minor": 4
}
