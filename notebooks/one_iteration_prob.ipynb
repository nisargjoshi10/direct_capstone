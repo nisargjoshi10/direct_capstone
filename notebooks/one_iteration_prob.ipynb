{
 "cells": [
  {
   "cell_type": "code",
   "execution_count": 1,
   "metadata": {},
   "outputs": [],
   "source": [
    "import sys\n",
    "sys.path.append('../modules')\n",
    "import likelihood_predictor\n",
    "from likelihood_predictor import PlastPredictor\n",
    "import numpy as np\n",
    "import pandas as pd\n",
    "import seaborn as sns\n",
    "import matplotlib.pyplot as plt\n",
    "import matplotlib.cm as cm\n",
    "from scipy.stats import zscore\n",
    "import pickle\n",
    "from sklearn.feature_selection import SelectFromModel\n",
    "from numpy import savetxt"
   ]
  },
  {
   "cell_type": "code",
   "execution_count": 19,
   "metadata": {},
   "outputs": [],
   "source": [
    "pl_full = pd.read_pickle('../database/pl_v11.pkl')\n",
    "pl_pol = pd.concat([pl_full[pl_full.columns[1:195]], pl_full['Polarity']], axis=1)\n",
    "all_cols = pl_pol.columns.to_numpy()\n",
    "pl_data = pl_pol[all_cols].to_numpy()\n",
    "lin_data = pd.read_pickle('../database/linolein_test.pkl')\n",
    "lin_data['Polarity'] = 0.048856\n",
    "lin_data = lin_data[all_cols].to_numpy()\n",
    "org_full = pd.read_pickle('../database/org_v3.pkl')"
   ]
  },
  {
   "cell_type": "code",
   "execution_count": 20,
   "metadata": {},
   "outputs": [],
   "source": [
    "org_full\n",
    "# org_full['Dsim'] = psim11\n",
    "# org_full['Nasim'] = psim22\n",
    "org_full = org_full.sort_values(by ='DEHP_sim')"
   ]
  },
  {
   "cell_type": "code",
   "execution_count": 21,
   "metadata": {},
   "outputs": [],
   "source": [
    "org_full = org_full[:5000]\n",
    "org_data = org_full[all_cols].to_numpy()"
   ]
  },
  {
   "cell_type": "code",
   "execution_count": 5,
   "metadata": {},
   "outputs": [],
   "source": [
    "reg_param = 10\n",
    "pp = PlastPredictor(reg_param)\n",
    "pp_model = pp.fit_model(pl_data, org_data)\n"
   ]
  },
  {
   "cell_type": "code",
   "execution_count": 6,
   "metadata": {},
   "outputs": [
    {
     "data": {
      "text/plain": [
       "100"
      ]
     },
     "execution_count": 6,
     "metadata": {},
     "output_type": "execute_result"
    }
   ],
   "source": [
    "cc=pp.clf.coef_\n",
    "np.count_nonzero(cc)"
   ]
  },
  {
   "cell_type": "code",
   "execution_count": 7,
   "metadata": {},
   "outputs": [],
   "source": [
    "clf_file = 'clf_oneiteration.pkl'\n",
    "scaler_file = 'scaler_oneiteration.pkl'\n",
    "pp.save_model(clf_file, scaler_file)"
   ]
  },
  {
   "cell_type": "code",
   "execution_count": 8,
   "metadata": {},
   "outputs": [],
   "source": [
    "org_full2 = pd.read_pickle('../database/org_v3.pkl')\n",
    "org_data2 = org_full2[all_cols].to_numpy()"
   ]
  },
  {
   "cell_type": "code",
   "execution_count": 9,
   "metadata": {},
   "outputs": [],
   "source": [
    "org_acc = pp.predict(org_data2, type='binary', class_id='neg')\n",
    "pl_acc = pp.predict(pl_data, type='binary', class_id='pos')"
   ]
  },
  {
   "cell_type": "code",
   "execution_count": 10,
   "metadata": {},
   "outputs": [
    {
     "data": {
      "text/plain": [
       "(0.9345172262682331, 0.9518716577540107)"
      ]
     },
     "execution_count": 10,
     "metadata": {},
     "output_type": "execute_result"
    }
   ],
   "source": [
    "org_acc, pl_acc"
   ]
  },
  {
   "cell_type": "code",
   "execution_count": 13,
   "metadata": {},
   "outputs": [],
   "source": [
    "org_prob = pp.predict(org_data2, type='prob', class_id='pos')\n",
    "pl_prob = pp.predict(pl_data, type='prob', class_id='pos')"
   ]
  },
  {
   "cell_type": "code",
   "execution_count": 40,
   "metadata": {
    "scrolled": true
   },
   "outputs": [
    {
     "data": {
      "text/plain": [
       "array([9.40822359e-04, 5.07170165e-27, 1.28115786e-08, ...,\n",
       "       1.64475837e-03, 3.91654814e-13, 4.75442473e-01])"
      ]
     },
     "execution_count": 40,
     "metadata": {},
     "output_type": "execute_result"
    }
   ],
   "source": [
    "org_prob"
   ]
  },
  {
   "cell_type": "code",
   "execution_count": 15,
   "metadata": {
    "scrolled": true
   },
   "outputs": [
    {
     "data": {
      "text/plain": [
       "array([9.99999998e-01, 9.99999995e-01, 9.57221945e-01, 9.99999995e-01,\n",
       "       1.00000000e+00, 3.36113630e-02, 9.99964670e-01, 1.00000000e+00,\n",
       "       1.00000000e+00, 9.99999978e-01, 9.96772564e-01, 9.98881430e-01,\n",
       "       9.99999999e-01, 9.99999998e-01, 9.99875681e-01, 9.99984374e-01,\n",
       "       9.96811159e-01, 1.00000000e+00, 9.99970488e-01, 9.99999999e-01,\n",
       "       9.99983288e-01, 9.99999998e-01, 9.97493294e-01, 9.87162084e-01,\n",
       "       1.00000000e+00, 9.67066912e-01, 1.00000000e+00, 9.93114039e-01,\n",
       "       1.00000000e+00, 9.99999572e-01, 6.30181339e-11, 1.00000000e+00,\n",
       "       1.00000000e+00, 9.99999998e-01, 1.00000000e+00, 7.70541201e-01,\n",
       "       9.34056353e-01, 9.99999997e-01, 9.99999992e-01, 9.58746827e-01,\n",
       "       2.22504885e-09, 9.77256366e-01, 9.99999993e-01, 1.00000000e+00,\n",
       "       9.99999996e-01, 9.99999999e-01, 9.24255147e-01, 9.98977817e-01,\n",
       "       9.98582441e-01, 1.00000000e+00, 9.99689183e-01, 1.00000000e+00,\n",
       "       9.95954566e-01, 9.99999999e-01, 1.00000000e+00, 9.98957396e-01,\n",
       "       9.99870964e-01, 1.00000000e+00, 9.99999999e-01, 9.99946961e-01,\n",
       "       9.99372730e-01, 2.08717446e-01, 9.99999394e-01, 9.98754363e-01,\n",
       "       1.00000000e+00, 9.99999995e-01, 1.00000000e+00, 8.49598933e-01,\n",
       "       9.99933989e-01, 8.60229460e-01, 9.53559476e-01, 1.00000000e+00,\n",
       "       1.00000000e+00, 9.57496690e-01, 6.08805886e-01, 9.99999999e-01,\n",
       "       1.00000000e+00, 9.99999971e-01, 9.23490949e-01, 1.00000000e+00,\n",
       "       9.99999999e-01, 9.99999983e-01, 9.71773245e-01, 9.93957219e-01,\n",
       "       1.00000000e+00, 9.99710278e-01, 9.99999997e-01, 8.44724295e-01,\n",
       "       9.02120754e-01, 1.00000000e+00, 1.00000000e+00, 9.99999988e-01,\n",
       "       9.94695943e-01, 9.67848565e-01, 9.85772688e-01, 9.98998787e-01,\n",
       "       9.95178997e-01, 9.99989982e-01, 9.94193729e-01, 9.85636000e-01,\n",
       "       1.00000000e+00, 9.99999996e-01, 9.96009628e-01, 9.99999949e-01,\n",
       "       1.00000000e+00, 1.00000000e+00, 9.99999997e-01, 9.99990199e-01,\n",
       "       9.96363892e-01, 9.99999693e-01, 9.96155565e-01, 9.40961327e-01,\n",
       "       9.92356188e-01, 1.00000000e+00, 9.95558187e-01, 9.99999999e-01,\n",
       "       9.30329418e-01, 9.22112093e-01, 9.92803485e-01, 1.56505756e-01,\n",
       "       1.00000000e+00, 2.46108699e-02, 9.67841348e-01, 9.97966309e-01,\n",
       "       9.99999997e-01, 9.99970934e-01, 9.99999995e-01, 1.00000000e+00,\n",
       "       9.99999995e-01, 9.99995681e-01, 9.99986162e-01, 9.63892997e-01,\n",
       "       1.00000000e+00, 9.99999851e-01, 9.99999985e-01, 6.95844980e-01,\n",
       "       1.00000000e+00, 9.51182541e-01, 9.99999996e-01, 9.98162050e-01,\n",
       "       9.99672236e-01, 1.33480991e-01, 9.99999378e-01, 9.95430695e-01,\n",
       "       9.99999999e-01, 9.94132279e-01, 9.21315560e-01, 9.99999993e-01,\n",
       "       9.83862756e-01, 9.99999999e-01, 9.95235551e-01, 9.99999998e-01,\n",
       "       9.99999998e-01, 9.85872156e-01, 9.99999999e-01, 9.99999998e-01,\n",
       "       9.99999999e-01, 9.99999997e-01, 1.00000000e+00, 9.99999999e-01,\n",
       "       9.97253152e-01, 1.00000000e+00, 9.99834866e-01, 9.69785611e-01,\n",
       "       9.06851503e-01, 9.99999998e-01, 9.87214520e-01, 1.00000000e+00,\n",
       "       9.80540311e-01, 1.00000000e+00, 9.99998251e-01, 9.99999996e-01,\n",
       "       9.98937020e-01, 9.96782176e-01, 1.00000000e+00, 9.99999990e-01,\n",
       "       9.99999999e-01, 1.00000000e+00, 1.00000000e+00, 9.99999979e-01,\n",
       "       9.99999999e-01, 9.99999980e-01, 9.52359488e-01, 1.00000000e+00,\n",
       "       9.99999998e-01, 6.51960417e-05, 3.77969038e-06])"
      ]
     },
     "execution_count": 15,
     "metadata": {},
     "output_type": "execute_result"
    }
   ],
   "source": [
    "pl_prob"
   ]
  },
  {
   "cell_type": "code",
   "execution_count": 16,
   "metadata": {},
   "outputs": [],
   "source": [
    "with open('organic_prob.txt', 'w') as og:\n",
    "    for i in org_prob:\n",
    "        og.write('%s\\n' %i)"
   ]
  },
  {
   "cell_type": "code",
   "execution_count": 18,
   "metadata": {},
   "outputs": [],
   "source": [
    "with open('plast_prob.txt', 'w') as pl:\n",
    "    for j in pl_prob:\n",
    "        pl.write('%s\\n' %j)"
   ]
  },
  {
   "cell_type": "code",
   "execution_count": null,
   "metadata": {},
   "outputs": [],
   "source": []
  }
 ],
 "metadata": {
  "kernelspec": {
   "display_name": "Python 3",
   "language": "python",
   "name": "python3"
  },
  "language_info": {
   "codemirror_mode": {
    "name": "ipython",
    "version": 3
   },
   "file_extension": ".py",
   "mimetype": "text/x-python",
   "name": "python",
   "nbconvert_exporter": "python",
   "pygments_lexer": "ipython3",
   "version": "3.7.7"
  }
 },
 "nbformat": 4,
 "nbformat_minor": 4
}
