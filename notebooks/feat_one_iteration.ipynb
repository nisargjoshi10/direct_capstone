{
 "cells": [
  {
   "cell_type": "code",
   "execution_count": 1,
   "metadata": {},
   "outputs": [],
   "source": [
    "import sys\n",
    "sys.path.append('../modules')\n",
    "import likelihood_predictor\n",
    "from likelihood_predictor import PlastPredictor\n",
    "import numpy as np\n",
    "import pandas as pd\n",
    "import seaborn as sns\n",
    "import matplotlib.pyplot as plt\n",
    "import matplotlib.cm as cm\n",
    "from scipy.stats import zscore\n",
    "import pickle\n",
    "from sklearn.feature_selection import SelectFromModel"
   ]
  },
  {
   "cell_type": "code",
   "execution_count": 2,
   "metadata": {},
   "outputs": [],
   "source": [
    "pl_full = pd.read_pickle('../database/plasticizer_data_v10_polarity.pkl')\n",
    "pl_pol = pd.concat([pl_full[pl_full.columns[1:195]], pl_full['Polarity']], axis=1)\n",
    "all_cols = pl_pol.columns.to_numpy()\n",
    "pl_data = pl_pol[all_cols].to_numpy()\n",
    "lin_data = pd.read_pickle('../database/linolein_test.pkl')\n",
    "lin_data['Polarity'] = 0.048856\n",
    "lin_data = lin_data[all_cols].to_numpy()\n",
    "org_full = pd.read_pickle('../database/org_v3.pkl')"
   ]
  },
  {
   "cell_type": "code",
   "execution_count": 3,
   "metadata": {},
   "outputs": [],
   "source": [
    "psim1 = open(\"pubs_similarity.txt\", 'r')\n",
    "psim11 = [line.rstrip('\\n') for line in psim1]\n",
    "psim2 = open(\"pubs_othersim.txt\", 'r')\n",
    "psim22 = [line.rstrip('\\n') for line in psim2]"
   ]
  },
  {
   "cell_type": "code",
   "execution_count": 4,
   "metadata": {},
   "outputs": [],
   "source": [
    "org_full\n",
    "# org_full['Dsim'] = psim11\n",
    "# org_full['Nasim'] = psim22\n",
    "org_full = org_full.sort_values(by ='DEHP_sim')"
   ]
  },
  {
   "cell_type": "code",
   "execution_count": 5,
   "metadata": {},
   "outputs": [],
   "source": [
    "org_full = org_full[:5000]\n",
    "org_data = org_full[all_cols].to_numpy()"
   ]
  },
  {
   "cell_type": "code",
   "execution_count": 6,
   "metadata": {},
   "outputs": [],
   "source": [
    "reg_param = 10\n",
    "pp = PlastPredictor(reg_param)\n",
    "pp_model = pp.fit_model(pl_data, org_data)\n"
   ]
  },
  {
   "cell_type": "code",
   "execution_count": 7,
   "metadata": {},
   "outputs": [],
   "source": [
    "cc=pp.clf.coef_"
   ]
  },
  {
   "cell_type": "code",
   "execution_count": 8,
   "metadata": {},
   "outputs": [
    {
     "data": {
      "text/plain": [
       "109"
      ]
     },
     "execution_count": 8,
     "metadata": {},
     "output_type": "execute_result"
    }
   ],
   "source": [
    "np.count_nonzero(cc)"
   ]
  },
  {
   "cell_type": "code",
   "execution_count": 9,
   "metadata": {},
   "outputs": [],
   "source": [
    "clf_file = 'clf_oneiteration.pkl'\n",
    "scaler_file = 'scaler_oneiteration.pkl'\n",
    "pp.save_model(clf_file, scaler_file)"
   ]
  },
  {
   "cell_type": "code",
   "execution_count": 14,
   "metadata": {},
   "outputs": [],
   "source": [
    "org_full2 = pd.read_pickle('../database/org_v3.pkl')\n",
    "org_data2 = org_full2[all_cols].to_numpy()"
   ]
  },
  {
   "cell_type": "code",
   "execution_count": 16,
   "metadata": {},
   "outputs": [],
   "source": [
    "org_acc = pp.predict(org_data2, type='binary', class_id='neg')\n",
    "pl_acc = pp.predict(pl_data, type='binary', class_id='pos')"
   ]
  },
  {
   "cell_type": "code",
   "execution_count": 17,
   "metadata": {},
   "outputs": [
    {
     "data": {
      "text/plain": [
       "(0.7974374491350348, 0.9333333333333333)"
      ]
     },
     "execution_count": 17,
     "metadata": {},
     "output_type": "execute_result"
    }
   ],
   "source": [
    "org_acc, pl_acc"
   ]
  },
  {
   "cell_type": "code",
   "execution_count": null,
   "metadata": {},
   "outputs": [],
   "source": []
  }
 ],
 "metadata": {
  "kernelspec": {
   "display_name": "Python 3",
   "language": "python",
   "name": "python3"
  },
  "language_info": {
   "codemirror_mode": {
    "name": "ipython",
    "version": 3
   },
   "file_extension": ".py",
   "mimetype": "text/x-python",
   "name": "python",
   "nbconvert_exporter": "python",
   "pygments_lexer": "ipython3",
   "version": "3.7.7"
  }
 },
 "nbformat": 4,
 "nbformat_minor": 4
}
