{
 "cells": [
  {
   "cell_type": "code",
   "execution_count": 11,
   "metadata": {},
   "outputs": [],
   "source": [
    "import sys\n",
    "sys.path.append('../modules')\n",
    "import likelihood_predictor\n",
    "from likelihood_predictor import PlastPredictor\n",
    "import numpy as np\n",
    "import pandas as pd\n",
    "import seaborn as sns\n",
    "import matplotlib.pyplot as plt\n",
    "import matplotlib.cm as cm\n",
    "from scipy.stats import zscore\n",
    "import pickle\n",
    "from sklearn.feature_selection import SelectFromModel"
   ]
  },
  {
   "cell_type": "code",
   "execution_count": 12,
   "metadata": {},
   "outputs": [],
   "source": [
    "pl_full = pd.read_pickle('../database/plasticizer_data_v10_polarity.pkl')\n",
    "pl_pol = pd.concat([pl_full[pl_full.columns[1:195]], pl_full['Polarity']], axis=1)\n",
    "all_cols = pl_pol.columns.to_numpy()\n",
    "pl_data = pl_pol[all_cols].to_numpy()\n",
    "lin_data = pd.read_pickle('../database/linolein_test.pkl')\n",
    "lin_data['Polarity'] = 0.048856\n",
    "lin_data = lin_data[all_cols].to_numpy()\n",
    "org_full = pd.read_pickle('../database/org_v3.pkl')"
   ]
  },
  {
   "cell_type": "code",
   "execution_count": 13,
   "metadata": {},
   "outputs": [],
   "source": [
    "psim1 = open(\"pubs_similarity.txt\", 'r')\n",
    "psim11 = [line.rstrip('\\n') for line in psim1]\n",
    "psim2 = open(\"pubs_othersim.txt\", 'r')\n",
    "psim22 = [line.rstrip('\\n') for line in psim2]"
   ]
  },
  {
   "cell_type": "code",
   "execution_count": 14,
   "metadata": {},
   "outputs": [],
   "source": [
    "org_full\n",
    "# org_full['Dsim'] = psim11\n",
    "# org_full['Nasim'] = psim22\n",
    "org_full = org_full.sort_values(by ='DEHP_sim')"
   ]
  },
  {
   "cell_type": "code",
   "execution_count": 15,
   "metadata": {},
   "outputs": [],
   "source": [
    "org_full = org_full[:5000]\n",
    "org_data = org_full[all_cols].to_numpy()"
   ]
  },
  {
   "cell_type": "code",
   "execution_count": 16,
   "metadata": {},
   "outputs": [],
   "source": [
    "reg_param = 10\n",
    "pp = PlastPredictor(reg_param)\n",
    "pp_model = pp.fit_model(pl_data, org_data)\n"
   ]
  },
  {
   "cell_type": "code",
   "execution_count": 17,
   "metadata": {},
   "outputs": [],
   "source": [
    "org_acc = pp.predict(org_data, type='binary', class_id='neg')\n",
    "pl_acc = pp.predict(pl_data, type='binary', class_id='pos')"
   ]
  },
  {
   "cell_type": "code",
   "execution_count": 18,
   "metadata": {},
   "outputs": [
    {
     "data": {
      "text/plain": [
       "(0.9802, 0.9238095238095239)"
      ]
     },
     "execution_count": 18,
     "metadata": {},
     "output_type": "execute_result"
    }
   ],
   "source": [
    "org_acc, pl_acc"
   ]
  },
  {
   "cell_type": "code",
   "execution_count": 19,
   "metadata": {},
   "outputs": [],
   "source": [
    "cc=pp.clf.coef_"
   ]
  },
  {
   "cell_type": "code",
   "execution_count": 20,
   "metadata": {},
   "outputs": [
    {
     "data": {
      "text/plain": [
       "105"
      ]
     },
     "execution_count": 20,
     "metadata": {},
     "output_type": "execute_result"
    }
   ],
   "source": [
    "np.count_nonzero(cc)"
   ]
  },
  {
   "cell_type": "code",
   "execution_count": 21,
   "metadata": {},
   "outputs": [],
   "source": [
    "clf_file = 'clf_oneiteration.pkl'\n",
    "scaler_file = 'scaler_oneiteration.pkl'\n",
    "pp.save_model(clf_file, scaler_file)"
   ]
  },
  {
   "cell_type": "code",
   "execution_count": 24,
   "metadata": {},
   "outputs": [],
   "source": [
    "compar = cc[0] != 0\n",
    "compar = compar.tolist()"
   ]
  },
  {
   "cell_type": "code",
   "execution_count": 25,
   "metadata": {},
   "outputs": [],
   "source": [
    "pl_temp = pl_data.tolist()\n",
    "org_temp = org_data.tolist()"
   ]
  },
  {
   "cell_type": "code",
   "execution_count": 26,
   "metadata": {},
   "outputs": [],
   "source": [
    "pl_list = []\n",
    "\n",
    "for i in range(0,210):\n",
    "    count = 0\n",
    "    p1 = []\n",
    "    for j in compar:\n",
    "        #print(j)\n",
    "        if j:\n",
    "#             print(type(j))\n",
    "            p1.append(pl_temp[i][count])\n",
    "        else:\n",
    "            p1.append(False)\n",
    "            \n",
    "        count += 1\n",
    "\n",
    "    pl_list.append(p1)\n",
    "    "
   ]
  },
  {
   "cell_type": "code",
   "execution_count": 27,
   "metadata": {},
   "outputs": [],
   "source": [
    "org_list = []\n",
    "\n",
    "for i in range(0, 5000):\n",
    "    count = 0\n",
    "    o1 = []\n",
    "    for j in compar:\n",
    "        if j:\n",
    "            o1.append(org_temp[i][count]) \n",
    "        else:\n",
    "            o1.append(False)\n",
    "           \n",
    "        count += 1\n",
    "            \n",
    "    org_list.append(o1)\n"
   ]
  },
  {
   "cell_type": "code",
   "execution_count": 31,
   "metadata": {},
   "outputs": [],
   "source": [
    "df1=pd.DataFrame(data=pl_list[0])"
   ]
  },
  {
   "cell_type": "code",
   "execution_count": 33,
   "metadata": {},
   "outputs": [],
   "source": [
    "df1.to_excel('features_oneiteration.xls')"
   ]
  },
  {
   "cell_type": "code",
   "execution_count": null,
   "metadata": {},
   "outputs": [],
   "source": []
  }
 ],
 "metadata": {
  "kernelspec": {
   "display_name": "Python 3",
   "language": "python",
   "name": "python3"
  },
  "language_info": {
   "codemirror_mode": {
    "name": "ipython",
    "version": 3
   },
   "file_extension": ".py",
   "mimetype": "text/x-python",
   "name": "python",
   "nbconvert_exporter": "python",
   "pygments_lexer": "ipython3",
   "version": "3.7.7"
  }
 },
 "nbformat": 4,
 "nbformat_minor": 4
}
