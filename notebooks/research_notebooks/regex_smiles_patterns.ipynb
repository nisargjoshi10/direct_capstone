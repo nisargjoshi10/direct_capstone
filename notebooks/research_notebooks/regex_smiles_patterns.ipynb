{
 "cells": [
  {
   "cell_type": "code",
   "execution_count": 1,
   "metadata": {},
   "outputs": [],
   "source": [
    "import os\n",
    "os.chdir('../../modules/')"
   ]
  },
  {
   "cell_type": "code",
   "execution_count": 14,
   "metadata": {},
   "outputs": [],
   "source": [
    "import re\n",
    "import pickle\n",
    "from util.util import *\n",
    "from util.losses import *\n",
    "from util.pred_blocks import ConvEncoder, GRUDecoder\n",
    "from likelihood_predictor import PlastPredictor\n",
    "from vae_generator import PlastVAEGen\n",
    "import torch\n",
    "import torch.nn as nn\n",
    "import torch.nn.functional as F\n",
    "from torchsummary import summary\n",
    "import pandas as pd\n",
    "import numpy as np\n",
    "import seaborn as sns\n",
    "import matplotlib.pyplot as plt\n",
    "import matplotlib.cm as cm"
   ]
  },
  {
   "cell_type": "code",
   "execution_count": 4,
   "metadata": {},
   "outputs": [],
   "source": [
    "%load_ext autoreload\n",
    "%autoreload 2\n",
    "\n",
    "import IPython.display as Disp\n",
    "np.set_printoptions(suppress=True)"
   ]
  },
  {
   "cell_type": "code",
   "execution_count": 5,
   "metadata": {},
   "outputs": [],
   "source": [
    "pl_ll = pd.read_pickle('../database/pl_likelihoods_v1.pkl')\n",
    "org_ll = pd.read_pickle('../database/org_likelihoods_v1.pkl')\n",
    "gdb_data = pd.read_pickle('../database/gdb_vae_test_1mil.pkl').to_numpy()\n",
    "all_data = pd.concat([pl_ll, org_ll]).to_numpy()\n",
    "test_data = pd.concat([pl_ll, org_ll]).sample(n=500).to_numpy()"
   ]
  },
  {
   "cell_type": "code",
   "execution_count": 7,
   "metadata": {},
   "outputs": [],
   "source": [
    "max_len = 100\n",
    "pvg = PlastVAEGen(params={'MAX_LENGTH': max_len, 'N_EPOCHS': 10, 'BATCH_SIZE': 10}, weigh_freq=False)\n",
    "pvg.initiate(pl_ll.to_numpy())"
   ]
  },
  {
   "cell_type": "code",
   "execution_count": 8,
   "metadata": {},
   "outputs": [
    {
     "data": {
      "text/plain": [
       "{'C': 0,\n",
       " '(': 1,\n",
       " ')': 2,\n",
       " 'O': 3,\n",
       " '=': 4,\n",
       " '1': 5,\n",
       " '2': 6,\n",
       " 'S': 7,\n",
       " '[O-]': 8,\n",
       " '3': 9,\n",
       " '4': 10,\n",
       " '.': 11,\n",
       " '[Na+]': 12,\n",
       " 'P': 13,\n",
       " '/': 14,\n",
       " '\\\\': 15,\n",
       " 'N': 16,\n",
       " 'Br': 17,\n",
       " '[Zn+2]': 18,\n",
       " 'Cl': 19,\n",
       " '5': 20,\n",
       " '[N+]': 21,\n",
       " '[C@]': 22,\n",
       " '[C@@H]': 23,\n",
       " '[C@H]': 24,\n",
       " '_': 25}"
      ]
     },
     "execution_count": 8,
     "metadata": {},
     "output_type": "execute_result"
    }
   ],
   "source": [
    "pvg.params['CHAR_DICT']"
   ]
  },
  {
   "cell_type": "code",
   "execution_count": 9,
   "metadata": {},
   "outputs": [],
   "source": [
    "max_len = 45\n",
    "pvg = PlastVAEGen(params={'MAX_LENGTH': max_len, 'N_EPOCHS': 10, 'BATCH_SIZE': 10})\n",
    "pvg.initiate(gdb_data)"
   ]
  },
  {
   "cell_type": "code",
   "execution_count": 10,
   "metadata": {},
   "outputs": [
    {
     "data": {
      "text/plain": [
       "{'Br': 0,\n",
       " 'C': 1,\n",
       " '1': 2,\n",
       " '=': 3,\n",
       " '2': 4,\n",
       " '3': 5,\n",
       " '4': 6,\n",
       " 'N': 7,\n",
       " '(': 8,\n",
       " '#': 9,\n",
       " ')': 10,\n",
       " 'O': 11,\n",
       " 'S': 12,\n",
       " '5': 13,\n",
       " '6': 14,\n",
       " '7': 15,\n",
       " 'c': 16,\n",
       " 's': 17,\n",
       " 'n': 18,\n",
       " '[nH]': 19,\n",
       " 'o': 20,\n",
       " 'Cl': 21,\n",
       " 'F': 22,\n",
       " 'I': 23,\n",
       " '[N+]': 24,\n",
       " '[O-]': 25,\n",
       " '_': 26}"
      ]
     },
     "execution_count": 10,
     "metadata": {},
     "output_type": "execute_result"
    }
   ],
   "source": [
    "pvg.params['CHAR_DICT']"
   ]
  },
  {
   "cell_type": "markdown",
   "metadata": {},
   "source": [
    "Two tasks left for input data. \n",
    "1. Need to add weighting function to `initiate()` so that more frequent characters have a smaller effect on the loss and the model will learn the less frequent characters more effectively.\n",
    "2. Need to regularize the incoming tokens for the PL, ORG and GDB datasets."
   ]
  },
  {
   "cell_type": "code",
   "execution_count": 13,
   "metadata": {},
   "outputs": [
    {
     "ename": "AttributeError",
     "evalue": "'PlastVAEGen' object has no attribute 'char_w'",
     "output_type": "error",
     "traceback": [
      "\u001b[0;31m-----------------------------------------------------------\u001b[0m",
      "\u001b[0;31mAttributeError\u001b[0m            Traceback (most recent call last)",
      "\u001b[0;32m<ipython-input-13-42d853f66c77>\u001b[0m in \u001b[0;36m<module>\u001b[0;34m\u001b[0m\n\u001b[1;32m      1\u001b[0m \u001b[0mbad_chars\u001b[0m \u001b[0;34m=\u001b[0m \u001b[0;34m[\u001b[0m\u001b[0;34m]\u001b[0m\u001b[0;34m\u001b[0m\u001b[0;34m\u001b[0m\u001b[0m\n\u001b[0;32m----> 2\u001b[0;31m \u001b[0;32mfor\u001b[0m \u001b[0mk\u001b[0m\u001b[0;34m,\u001b[0m \u001b[0mv\u001b[0m \u001b[0;32min\u001b[0m \u001b[0mpvg\u001b[0m\u001b[0;34m.\u001b[0m\u001b[0mchar_w\u001b[0m\u001b[0;34m.\u001b[0m\u001b[0mitems\u001b[0m\u001b[0;34m(\u001b[0m\u001b[0;34m)\u001b[0m\u001b[0;34m:\u001b[0m\u001b[0;34m\u001b[0m\u001b[0;34m\u001b[0m\u001b[0m\n\u001b[0m\u001b[1;32m      3\u001b[0m     \u001b[0;32mif\u001b[0m \u001b[0mv\u001b[0m \u001b[0;34m<\u001b[0m \u001b[0;36m100\u001b[0m\u001b[0;34m:\u001b[0m\u001b[0;34m\u001b[0m\u001b[0;34m\u001b[0m\u001b[0m\n\u001b[1;32m      4\u001b[0m         \u001b[0mbad_chars\u001b[0m\u001b[0;34m.\u001b[0m\u001b[0mappend\u001b[0m\u001b[0;34m(\u001b[0m\u001b[0mk\u001b[0m\u001b[0;34m)\u001b[0m\u001b[0;34m\u001b[0m\u001b[0;34m\u001b[0m\u001b[0m\n",
      "\u001b[0;31mAttributeError\u001b[0m: 'PlastVAEGen' object has no attribute 'char_w'"
     ]
    }
   ],
   "source": [
    "bad_chars = []\n",
    "for k, v in pvg.char_w.items():\n",
    "    if v < 100:\n",
    "        bad_chars.append(k)"
   ]
  },
  {
   "cell_type": "code",
   "execution_count": null,
   "metadata": {},
   "outputs": [],
   "source": [
    "good_idxs = []\n",
    "all_gdb_smiles = gdb_data[:,0]\n",
    "for i, smile in enumerate(all_gdb_smiles):\n",
    "    bad_smile = False\n",
    "    for bad_char in bad_chars:\n",
    "        if bad_char in smile:\n",
    "            bad_smile = True\n",
    "    if bad_smile:\n",
    "        pass\n",
    "    else:\n",
    "        good_idxs.append(i)"
   ]
  },
  {
   "cell_type": "code",
   "execution_count": null,
   "metadata": {},
   "outputs": [],
   "source": [
    "gdb_data = gdb_data[good_idxs,:]"
   ]
  },
  {
   "cell_type": "code",
   "execution_count": null,
   "metadata": {},
   "outputs": [],
   "source": [
    "len(gdb_data)"
   ]
  },
  {
   "cell_type": "markdown",
   "metadata": {},
   "source": [
    "Determining like characters between GDB, PL and ORG"
   ]
  },
  {
   "cell_type": "code",
   "execution_count": 17,
   "metadata": {},
   "outputs": [],
   "source": [
    "with open('../scripts/gdb_char_dict.pkl', 'rb') as f:\n",
    "    gdb_char_dict = pickle.load(f)"
   ]
  },
  {
   "cell_type": "code",
   "execution_count": 20,
   "metadata": {},
   "outputs": [],
   "source": [
    "total_chars = 0\n",
    "for k, v in gdb_char_dict.items():\n",
    "    total_chars += v\n",
    "\n",
    "pop_items = []\n",
    "for k, v in gdb_char_dict.items():\n",
    "    perc = round(v / total_chars * 100, 5)\n",
    "    if perc < 0.01:\n",
    "        pop_items.append(k)"
   ]
  },
  {
   "cell_type": "code",
   "execution_count": 21,
   "metadata": {},
   "outputs": [],
   "source": [
    "for item in pop_items:\n",
    "    gdb_char_dict.pop(item)"
   ]
  },
  {
   "cell_type": "code",
   "execution_count": 25,
   "metadata": {},
   "outputs": [
    {
     "data": {
      "text/plain": [
       "{'Br': 1179939,\n",
       " 'C': 578495733,\n",
       " '1': 120088320,\n",
       " '=': 114378468,\n",
       " '2': 68830550,\n",
       " '3': 16223832,\n",
       " '4': 2640190,\n",
       " 'N': 129434138,\n",
       " '(': 158583035,\n",
       " '#': 16752553,\n",
       " ')': 158583035,\n",
       " 'O': 105517366,\n",
       " 'S': 8506426,\n",
       " '5': 271622,\n",
       " 'F': 1194144,\n",
       " 'Cl': 464279,\n",
       " 'I': 427590}"
      ]
     },
     "execution_count": 25,
     "metadata": {},
     "output_type": "execute_result"
    }
   ],
   "source": [
    "gdb_char_dict"
   ]
  },
  {
   "cell_type": "code",
   "execution_count": 23,
   "metadata": {},
   "outputs": [
    {
     "data": {
      "text/plain": [
       "['c', 'n', '[nH]', 's', 'o', '6', '7', '8', '[N+]', '[O-]']"
      ]
     },
     "execution_count": 23,
     "metadata": {},
     "output_type": "execute_result"
    }
   ],
   "source": [
    "pop_items"
   ]
  },
  {
   "cell_type": "code",
   "execution_count": null,
   "metadata": {},
   "outputs": [],
   "source": []
  }
 ],
 "metadata": {
  "kernelspec": {
   "display_name": "Python 3",
   "language": "python",
   "name": "python3"
  },
  "language_info": {
   "codemirror_mode": {
    "name": "ipython",
    "version": 3
   },
   "file_extension": ".py",
   "mimetype": "text/x-python",
   "name": "python",
   "nbconvert_exporter": "python",
   "pygments_lexer": "ipython3",
   "version": "3.7.3"
  }
 },
 "nbformat": 4,
 "nbformat_minor": 2
}
