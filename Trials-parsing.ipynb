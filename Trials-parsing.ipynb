{
 "cells": [
  {
   "cell_type": "markdown",
   "metadata": {},
   "source": [
    "# I was trying to parse all the urls of the plasitizers' properties on this website:\n",
    "https://app.knovel.com/web/toc.v/cid:kpPDEE0001/viewerType:toc//root_slug:plasticizers-database-2nd?&hierarchy=kn0V68XPV1\n",
    "\n",
    "# So that we can download the actrual files. But it is not as easy as I thought...."
   ]
  },
  {
   "cell_type": "markdown",
   "metadata": {},
   "source": [
    "## This code works for normal website..."
   ]
  },
  {
   "cell_type": "code",
   "execution_count": null,
   "metadata": {},
   "outputs": [],
   "source": [
    "from bs4 import BeautifulSoup\n",
    "import urllib3\n",
    "import re\n",
    "import certifi\n",
    "\n",
    "# reading url and pass to html_page\n",
    "http = urllib3.PoolManager()\n",
    "html_page = http.request('GET',\"http://depts.washington.edu/chem/facilserv/nmr/av300.html\")\n",
    "\n",
    "#pass to BS4\n",
    "soup = BeautifulSoup(html_page.data)\n",
    "# print (soup.prettify())\n",
    "for link in soup.findAll('a', attrs={'href': re.compile(\"^http://\")}):\n",
    "    print (link.get('href'))"
   ]
  },
  {
   "cell_type": "markdown",
   "metadata": {},
   "source": [
    "## It seems that they hide the data somewhere else.\n",
    "## I can't find any names of plasticizers in the html code."
   ]
  },
  {
   "cell_type": "code",
   "execution_count": null,
   "metadata": {},
   "outputs": [],
   "source": [
    "from bs4 import BeautifulSoup\n",
    "import urllib3\n",
    "import re\n",
    "import certifi\n",
    "\n",
    "# reading url and pass to html_page\n",
    "http = urllib3.PoolManager(cert_reqs='CERT_REQUIRED',ca_certs=certifi.where())\n",
    "html_page = http.request('GET',\"https://app.knovel.com/web/toc.v/cid:kpPDEE0001/viewerType:toc//root_slug:plasticizers-database-2nd?&hierarchy=kn0V68XPV1\")\n",
    "\n",
    "#pass to BS4\n",
    "soup = BeautifulSoup(html_page.data)\n",
    "print (soup.prettify())\n",
    "for link in soup.findAll('a', attrs={'href': re.compile(\"^http://\")}):\n",
    "    print (link.get('href'))"
   ]
  },
  {
   "cell_type": "markdown",
   "metadata": {},
   "source": [
    "# parsing from a single html\n",
    "\n"
   ]
  },
  {
   "cell_type": "code",
   "execution_count": 20,
   "metadata": {},
   "outputs": [
    {
     "name": "stdout",
     "output_type": "stream",
     "text": [
      "{'Synonyms:': 'DHODA; Di-C7-9-alkyl adipate; Hexanedioic acid, di-C7-9-branched and linear alkyl esters'}\n",
      "{'Molecular Weight:': '375'}\n",
      "{'CAS Registry No.:': '68515-75-3'}\n",
      "{'Chemical Category:': 'Adipates'}\n",
      "{'EC No.:': '271-105-9'}\n",
      "{'Manufacturer:': 'Solutia Inc.'}\n",
      "{'Outstanding Properties:': 'Enhanced low temperature performance'}\n",
      "{'Used for Polymeric Materials:': 'PVC, PU, cellulosics, rubber'}\n",
      "{'Used for Products:': 'Film & sheeting, coatings'}\n",
      "{'Specific Gravity:': '0.92 (25°C)'}\n",
      "{'Aggregate State at 25°C:': 'Liquid'}\n",
      "{'Surface Tension, mN/m:': '30.3 (25°C)'}\n",
      "{'Boiling Point, °C:': '224'}\n",
      "{'Dynamic Viscosity, cP:': '12.8 (25°C)'}\n",
      "{'Melting Point, °C:': '-13'}\n",
      "{'Vapor Pressure, kPa:': '0.44 (200°C)'}\n",
      "{'Odor:': 'Odorless'}\n",
      "{'Color:': 'Colorless'}\n",
      "{'OSHA Hazard Class:': 'Not considered a hazardous substance'}\n",
      "{'Autoignition Temperature, °C:': '232'}\n",
      "{'Eye Irritation (human):': 'None - rabbit'}\n",
      "{'Flash Point Method:': 'COC'}\n",
      "{'Flash Point Temperature, °C:': '204'}\n",
      "{'HMIS Fire:': '0'}\n",
      "{'HMIS Health:': '1'}\n",
      "{'HMIS Personal protection:': 'Safety glasses, gloves, lab. coat'}\n",
      "{'NFPA Flammability:': '0'}\n",
      "{'NFPA Health:': '1'}\n",
      "{'NFPA Reactivity:': '0'}\n",
      "{'Skin Irritation:': 'None'}\n",
      "{'HMIS Reactivity:': '0'}\n",
      "{'Biodegradation Probability:': 'SCAS(OECD 302A) degradation 67% 24h'}\n",
      "{'Octanol-Water Partition Coeff., log Kow:': '7.55'}\n",
      "{'Fathead Minnow, 96-h LC50, mg/L:': '>1,000'}\n",
      "{'Rainbow Trout, 96-h LC50, mg/L:': '>1,000'}\n",
      "{'Rabbit Dermal, LD50, mg/kg:': '>7,940'}\n",
      "{'Rat Oral, LD50, mg/kg:': '>14,000'}\n"
     ]
    }
   ],
   "source": [
    "from bs4 import BeautifulSoup\n",
    "import requests\n",
    "import pandas as pd\n",
    "\n",
    "with open('97.html') as html_file:\n",
    "    soup = BeautifulSoup (html_file, 'lxml')\n",
    "\n",
    "chem = soup.find('table')\n",
    "chem_name = chem.tbody.tr.b.text # name of the chemical \n",
    "chem_info = chem.tbody.tr.td # first level of information \n",
    "\n",
    "\n",
    "for div in chem_info.find_all('div'): #2nd level\n",
    "    temp =  div.dl.dd\n",
    "    for table in temp.find_all('table'): #3rd level \n",
    "        temp_1 = table.tbody.tr\n",
    "        list_temp = []\n",
    "        for td in temp_1.find_all('td'): #4rd level -- actrual contents\n",
    "            list_temp.append(td.text)\n",
    "            \n",
    "        # putting actual contents in to df\n",
    "        temp_properties = {list_temp[0]:list_temp[1]}\n",
    "        print (temp_properties)\n",
    "\n",
    "\n",
    "### at the 4rd level there are two variables: names of the properties and their numbers\n",
    "### How to put them into pandas dataframe???\n"
   ]
  },
  {
   "cell_type": "code",
   "execution_count": null,
   "metadata": {},
   "outputs": [],
   "source": []
  }
 ],
 "metadata": {
  "kernelspec": {
   "display_name": "Python 3",
   "language": "python",
   "name": "python3"
  },
  "language_info": {
   "codemirror_mode": {
    "name": "ipython",
    "version": 3
   },
   "file_extension": ".py",
   "mimetype": "text/x-python",
   "name": "python",
   "nbconvert_exporter": "python",
   "pygments_lexer": "ipython3",
   "version": "3.7.4"
  }
 },
 "nbformat": 4,
 "nbformat_minor": 2
}
